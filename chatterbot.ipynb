{
 "cells": [
  {
   "cell_type": "code",
   "execution_count": 2,
   "metadata": {},
   "outputs": [],
   "source": [
    "from chatterbot import ChatBot\n",
    "import nltk\n",
    "from chatterbot.trainers import ChatterBotCorpusTrainer\n",
    "from chatterbot.trainers import ListTrainer\n",
    "import re\n",
    "#nltk.download()"
   ]
  },
  {
   "cell_type": "code",
   "execution_count": 11,
   "metadata": {},
   "outputs": [
    {
     "name": "stderr",
     "output_type": "stream",
     "text": [
      "[nltk_data] Downloading package stopwords to\n",
      "[nltk_data]     C:\\Users\\HP\\AppData\\Roaming\\nltk_data...\n",
      "[nltk_data]   Package stopwords is already up-to-date!\n",
      "[nltk_data] Downloading package averaged_perceptron_tagger to\n",
      "[nltk_data]     C:\\Users\\HP\\AppData\\Roaming\\nltk_data...\n",
      "[nltk_data]   Package averaged_perceptron_tagger is already up-to-\n",
      "[nltk_data]       date!\n"
     ]
    },
    {
     "name": "stdout",
     "output_type": "stream",
     "text": [
      "Training ai.yml: [####################] 100%\n",
      "Training botprofile.yml: [####################] 100%\n",
      "Training computers.yml: [####################] 100%\n",
      "Training conversations.yml: [####################] 100%\n",
      "Training emotion.yml: [####################] 100%\n",
      "Training food.yml: [####################] 100%\n",
      "Training gossip.yml: [####################] 100%\n",
      "Training greetings.yml: [####################] 100%\n",
      "Training health.yml: [####################] 100%\n",
      "Training history.yml: [####################] 100%\n",
      "Training humor.yml: [####################] 100%\n",
      "Training literature.yml: [####################] 100%\n",
      "Training money.yml: [####################] 100%\n",
      "Training movies.yml: [####################] 100%\n",
      "Training politics.yml: [####################] 100%\n",
      "Training psychology.yml: [####################] 100%\n",
      "Training science.yml: [####################] 100%\n",
      "Training sports.yml: [####################] 100%\n",
      "Training trivia.yml: [####################] 100%\n",
      "List Trainer: [####################] 100%\n"
     ]
    },
    {
     "name": "stdin",
     "output_type": "stream",
     "text": [
      " hi\n"
     ]
    },
    {
     "name": "stdout",
     "output_type": "stream",
     "text": [
      "How are you doing?\n"
     ]
    },
    {
     "name": "stdin",
     "output_type": "stream",
     "text": [
      " fine\n"
     ]
    },
    {
     "name": "stdout",
     "output_type": "stream",
     "text": [
      "what is your favorite investment\n"
     ]
    },
    {
     "name": "stdin",
     "output_type": "stream",
     "text": [
      " stock\n"
     ]
    },
    {
     "name": "stdout",
     "output_type": "stream",
     "text": [
      "What is your age\n"
     ]
    },
    {
     "name": "stdin",
     "output_type": "stream",
     "text": [
      " 31\n"
     ]
    },
    {
     "name": "stdout",
     "output_type": "stream",
     "text": [
      "you are right about that. i am self.\n"
     ]
    },
    {
     "name": "stdin",
     "output_type": "stream",
     "text": [
      " what you do\n"
     ]
    },
    {
     "name": "stdout",
     "output_type": "stream",
     "text": [
      "I am doing well.\n"
     ]
    },
    {
     "name": "stdin",
     "output_type": "stream",
     "text": [
      " good\n"
     ]
    },
    {
     "name": "stdout",
     "output_type": "stream",
     "text": [
      "What is your favorite book?\n"
     ]
    },
    {
     "name": "stdin",
     "output_type": "stream",
     "text": [
      " rich dad\n"
     ]
    },
    {
     "name": "stdout",
     "output_type": "stream",
     "text": [
      "do you know gossip\n"
     ]
    },
    {
     "name": "stdin",
     "output_type": "stream",
     "text": [
      " no\n"
     ]
    },
    {
     "name": "stdout",
     "output_type": "stream",
     "text": [
      "Should I be? Did something happen?\n"
     ]
    },
    {
     "name": "stdin",
     "output_type": "stream",
     "text": [
      " okay\n"
     ]
    },
    {
     "name": "stdout",
     "output_type": "stream",
     "text": [
      "I am.\n"
     ]
    },
    {
     "name": "stdin",
     "output_type": "stream",
     "text": [
      " bye\n"
     ]
    }
   ],
   "source": [
    "chatbot = ChatBot(\n",
    "    'ST_BOT', read_only=True,\n",
    "    #logic_adapters=[\n",
    "    #    'chatterbot.logic.MathematicalEvaluation'\n",
    "    #]\n",
    ")\n",
    "\n",
    "trainer = ChatterBotCorpusTrainer(chatbot)\n",
    "trainer.train(\n",
    "    \"chatterbot.corpus.english\"\n",
    ")\n",
    "conversation = [\n",
    "    \"Hello\",\n",
    "    \"Hi there!\",\n",
    "    \"How are you doing?\",\n",
    "    \"I'm doing great.\",\n",
    "    \"That is good to hear\",\n",
    "    \"Thank you.\",\n",
    "    \"You're welcome.\",\n",
    "    \"ok\",\n",
    "    \"okay\"\n",
    "]\n",
    "trainer = ListTrainer(chatbot)\n",
    "trainer.train(conversation)\n",
    "while True:\n",
    "    inp=input()\n",
    "    if inp==\"bye\":\n",
    "        break\n",
    "    bot_input = chatbot.get_response(str(inp))\n",
    "    print(bot_input)\n",
    "\n"
   ]
  },
  {
   "cell_type": "code",
   "execution_count": null,
   "metadata": {},
   "outputs": [],
   "source": [
    "### out put\n",
    "[nltk_data] Downloading package stopwords to\n",
    "[nltk_data]     C:\\Users\\HP\\AppData\\Roaming\\nltk_data...\n",
    "[nltk_data]   Package stopwords is already up-to-date!\n",
    "[nltk_data] Downloading package averaged_perceptron_tagger to\n",
    "[nltk_data]     C:\\Users\\HP\\AppData\\Roaming\\nltk_data...\n",
    "[nltk_data]   Package averaged_perceptron_tagger is already up-to-\n",
    "[nltk_data]       date!\n",
    "Training ai.yml: [####################] 100%\n",
    "Training botprofile.yml: [####################] 100%\n",
    "Training computers.yml: [####################] 100%\n",
    "Training conversations.yml: [####################] 100%\n",
    "Training emotion.yml: [####################] 100%\n",
    "Training food.yml: [####################] 100%\n",
    "Training gossip.yml: [####################] 100%\n",
    "Training greetings.yml: [####################] 100%\n",
    "Training health.yml: [####################] 100%\n",
    "Training history.yml: [####################] 100%\n",
    "Training humor.yml: [####################] 100%\n",
    "Training literature.yml: [####################] 100%\n",
    "Training money.yml: [####################] 100%\n",
    "Training movies.yml: [####################] 100%\n",
    "Training politics.yml: [####################] 100%\n",
    "Training psychology.yml: [####################] 100%\n",
    "Training science.yml: [####################] 100%\n",
    "Training sports.yml: [####################] 100%\n",
    "Training trivia.yml: [####################] 100%\n",
    "List Trainer: [####################] 100%\n",
    " hi\n",
    "How are you doing?\n",
    " fine\n",
    "what is your favorite investment\n",
    " stock\n",
    "What is your age\n",
    " 31\n",
    "you are right about that. i am self.\n",
    " what you do\n",
    "I am doing well.\n",
    " good\n",
    "What is your favorite book?\n",
    " rich dad\n",
    "do you know gossip\n",
    " no\n",
    "Should I be? Did something happen?\n",
    " okay\n",
    "I am.\n",
    " bye"
   ]
  }
 ],
 "metadata": {
  "kernelspec": {
   "display_name": "Python 3",
   "language": "python",
   "name": "python3"
  },
  "language_info": {
   "codemirror_mode": {
    "name": "ipython",
    "version": 3
   },
   "file_extension": ".py",
   "mimetype": "text/x-python",
   "name": "python",
   "nbconvert_exporter": "python",
   "pygments_lexer": "ipython3",
   "version": "3.7.4"
  }
 },
 "nbformat": 4,
 "nbformat_minor": 4
}
